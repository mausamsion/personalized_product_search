{
 "cells": [
  {
   "cell_type": "code",
   "execution_count": 1,
   "metadata": {},
   "outputs": [],
   "source": [
    "import pandas as pd\n",
    "import gzip\n",
    "import json\n",
    "import numpy as np\n",
    "from tqdm import tqdm\n",
    "import seaborn as sns\n",
    "import matplotlib.pyplot as plt"
   ]
  },
  {
   "cell_type": "code",
   "execution_count": 2,
   "metadata": {},
   "outputs": [],
   "source": [
    "def get_qrels(path):\n",
    "    data = []\n",
    "    with gzip.open(path, 'rt') as f:\n",
    "        data = [line[:-2].split(' ') for line in f]\n",
    "    return pd.DataFrame(data)\n",
    "\n",
    "# ----------------------------\n",
    "def get_query_text(path):\n",
    "    text = []\n",
    "    with gzip.open(path, 'rt') as f:\n",
    "        text = [line[:-1] for line in f]\n",
    "    return text\n",
    "\n",
    "# ----------------------------\n",
    "def parse(path):\n",
    "  g = gzip.open(path, 'rb')\n",
    "  for l in g:\n",
    "    yield json.loads(l)\n",
    "\n",
    "def get_review_data(path):\n",
    "  i = 0\n",
    "  df = {}\n",
    "  for d in parse(path):\n",
    "    df[i] = d\n",
    "    i += 1\n",
    "  return pd.DataFrame.from_dict(df, orient='index')"
   ]
  },
  {
   "cell_type": "code",
   "execution_count": 43,
   "metadata": {},
   "outputs": [],
   "source": [
    "traindf = get_qrels(\n",
    "    'apsd/reviews_Cell_Phones_and_Accessories_5.json.gz/train.qrels.gz')\n",
    "testdf = get_qrels(\n",
    "    'apsd/reviews_Cell_Phones_and_Accessories_5.json.gz/test.qrels.gz')\n",
    "qtext = get_query_text(\n",
    "    'apsd/reviews_Cell_Phones_and_Accessories_5.json.gz/query_text.txt.gz')\n",
    "itemdf = get_review_data(\n",
    "    'apsd/Cell_Phones_and_Accessories_5.json.gz')"
   ]
  },
  {
   "cell_type": "code",
   "execution_count": null,
   "metadata": {},
   "outputs": [],
   "source": []
  },
  {
   "cell_type": "markdown",
   "metadata": {},
   "source": [
    "### Processing user-item review data"
   ]
  },
  {
   "cell_type": "code",
   "execution_count": 40,
   "metadata": {},
   "outputs": [
    {
     "data": {
      "text/plain": [
       "(1128437, 12)"
      ]
     },
     "execution_count": 40,
     "metadata": {},
     "output_type": "execute_result"
    }
   ],
   "source": [
    "itemdf.shape"
   ]
  },
  {
   "cell_type": "code",
   "execution_count": 41,
   "metadata": {},
   "outputs": [],
   "source": [
    "idf = itemdf[['reviewerID', 'asin', 'reviewText']]\n",
    "idf.columns = ['rid', 'asin', 'rtext']"
   ]
  },
  {
   "cell_type": "code",
   "execution_count": 42,
   "metadata": {},
   "outputs": [
    {
     "data": {
      "text/html": [
       "<div>\n",
       "<style scoped>\n",
       "    .dataframe tbody tr th:only-of-type {\n",
       "        vertical-align: middle;\n",
       "    }\n",
       "\n",
       "    .dataframe tbody tr th {\n",
       "        vertical-align: top;\n",
       "    }\n",
       "\n",
       "    .dataframe thead th {\n",
       "        text-align: right;\n",
       "    }\n",
       "</style>\n",
       "<table border=\"1\" class=\"dataframe\">\n",
       "  <thead>\n",
       "    <tr style=\"text-align: right;\">\n",
       "      <th></th>\n",
       "      <th>rid</th>\n",
       "      <th>asin</th>\n",
       "      <th>rtext</th>\n",
       "    </tr>\n",
       "  </thead>\n",
       "  <tbody>\n",
       "    <tr>\n",
       "      <th>0</th>\n",
       "      <td>A24E3SXTC62LJI</td>\n",
       "      <td>7508492919</td>\n",
       "      <td>Looks even better in person. Be careful to not...</td>\n",
       "    </tr>\n",
       "    <tr>\n",
       "      <th>1</th>\n",
       "      <td>A269FLZCB4GIPV</td>\n",
       "      <td>7508492919</td>\n",
       "      <td>When you don't want to spend a whole lot of ca...</td>\n",
       "    </tr>\n",
       "    <tr>\n",
       "      <th>2</th>\n",
       "      <td>AB6CHQWHZW4TV</td>\n",
       "      <td>7508492919</td>\n",
       "      <td>so the case came on time, i love the design. I...</td>\n",
       "    </tr>\n",
       "    <tr>\n",
       "      <th>3</th>\n",
       "      <td>A1M117A53LEI8</td>\n",
       "      <td>7508492919</td>\n",
       "      <td>DON'T CARE FOR IT.  GAVE IT AS A GIFT AND THEY...</td>\n",
       "    </tr>\n",
       "    <tr>\n",
       "      <th>4</th>\n",
       "      <td>A272DUT8M88ZS8</td>\n",
       "      <td>7508492919</td>\n",
       "      <td>I liked it because it was cute, but the studs ...</td>\n",
       "    </tr>\n",
       "    <tr>\n",
       "      <th>...</th>\n",
       "      <td>...</td>\n",
       "      <td>...</td>\n",
       "      <td>...</td>\n",
       "    </tr>\n",
       "    <tr>\n",
       "      <th>1128432</th>\n",
       "      <td>A1QWMCG1FNEP3A</td>\n",
       "      <td>B01HJC7N4C</td>\n",
       "      <td>Good for viewing. But doesn't have a button or...</td>\n",
       "    </tr>\n",
       "    <tr>\n",
       "      <th>1128433</th>\n",
       "      <td>A3FOBEJ9UVUTR3</td>\n",
       "      <td>B01HJC7N4C</td>\n",
       "      <td>I was given the Rockrok 3D VR Glasses Headset ...</td>\n",
       "    </tr>\n",
       "    <tr>\n",
       "      <th>1128434</th>\n",
       "      <td>AMUEAMKB4E33M</td>\n",
       "      <td>B01HJC7N4C</td>\n",
       "      <td>Super Fun! The RockRoc 3d vr headset is waaaay...</td>\n",
       "    </tr>\n",
       "    <tr>\n",
       "      <th>1128435</th>\n",
       "      <td>A2EV91MMOJ3IL4</td>\n",
       "      <td>B01HJC7N4C</td>\n",
       "      <td>Love it!\\n\\nI've had other VR glasses which al...</td>\n",
       "    </tr>\n",
       "    <tr>\n",
       "      <th>1128436</th>\n",
       "      <td>ARKQD9Z1VPOV2</td>\n",
       "      <td>B01HJH9IN6</td>\n",
       "      <td>i love it</td>\n",
       "    </tr>\n",
       "  </tbody>\n",
       "</table>\n",
       "<p>1128437 rows × 3 columns</p>\n",
       "</div>"
      ],
      "text/plain": [
       "                    rid        asin  \\\n",
       "0        A24E3SXTC62LJI  7508492919   \n",
       "1        A269FLZCB4GIPV  7508492919   \n",
       "2         AB6CHQWHZW4TV  7508492919   \n",
       "3         A1M117A53LEI8  7508492919   \n",
       "4        A272DUT8M88ZS8  7508492919   \n",
       "...                 ...         ...   \n",
       "1128432  A1QWMCG1FNEP3A  B01HJC7N4C   \n",
       "1128433  A3FOBEJ9UVUTR3  B01HJC7N4C   \n",
       "1128434   AMUEAMKB4E33M  B01HJC7N4C   \n",
       "1128435  A2EV91MMOJ3IL4  B01HJC7N4C   \n",
       "1128436   ARKQD9Z1VPOV2  B01HJH9IN6   \n",
       "\n",
       "                                                     rtext  \n",
       "0        Looks even better in person. Be careful to not...  \n",
       "1        When you don't want to spend a whole lot of ca...  \n",
       "2        so the case came on time, i love the design. I...  \n",
       "3        DON'T CARE FOR IT.  GAVE IT AS A GIFT AND THEY...  \n",
       "4        I liked it because it was cute, but the studs ...  \n",
       "...                                                    ...  \n",
       "1128432  Good for viewing. But doesn't have a button or...  \n",
       "1128433  I was given the Rockrok 3D VR Glasses Headset ...  \n",
       "1128434  Super Fun! The RockRoc 3d vr headset is waaaay...  \n",
       "1128435  Love it!\\n\\nI've had other VR glasses which al...  \n",
       "1128436                                          i love it  \n",
       "\n",
       "[1128437 rows x 3 columns]"
      ]
     },
     "execution_count": 42,
     "metadata": {},
     "output_type": "execute_result"
    }
   ],
   "source": [
    "idf"
   ]
  },
  {
   "cell_type": "code",
   "execution_count": 85,
   "metadata": {},
   "outputs": [
    {
     "data": {
      "text/plain": [
       "48186"
      ]
     },
     "execution_count": 85,
     "metadata": {},
     "output_type": "execute_result"
    }
   ],
   "source": [
    "unique_items_with_reviews = list(pd.unique(idf['asin']))\n",
    "len(unique_items_with_reviews)"
   ]
  },
  {
   "cell_type": "code",
   "execution_count": null,
   "metadata": {},
   "outputs": [],
   "source": []
  },
  {
   "cell_type": "markdown",
   "metadata": {},
   "source": [
    "### Processing traindf and testdf"
   ]
  },
  {
   "cell_type": "code",
   "execution_count": 90,
   "metadata": {},
   "outputs": [],
   "source": [
    "# filter out items from train if they do not have reviews\n",
    "trdf = traindf[traindf[2].isin(idf['asin'])]\n",
    "# group items per user-query pair\n",
    "trdf = trdf.groupby(0)[2].apply(list).reset_index()\n",
    "# rename columns\n",
    "trdf.columns = ['rid_qln', 'items']\n",
    "\n",
    "# filter out items from test if they do not have reviews\n",
    "tedf = testdf[testdf[2].isin(idf['asin'])]\n",
    "# group items per user-query pair\n",
    "tedf = tedf.groupby(0)[2].apply(list).reset_index()\n",
    "# rename columns\n",
    "tedf.columns = ['rid_qln', 'items']"
   ]
  },
  {
   "cell_type": "code",
   "execution_count": 94,
   "metadata": {},
   "outputs": [
    {
     "name": "stderr",
     "output_type": "stream",
     "text": [
      "100%|██████████| 55027/55027 [00:01<00:00, 42968.22it/s]\n",
      "100%|██████████| 323/323 [00:00<00:00, 39616.35it/s]\n"
     ]
    }
   ],
   "source": [
    "d = []\n",
    "for _,row in tqdm(trdf.iterrows(), total=len(trdf)):\n",
    "    r = row['rid_qln'].split('_') + [row['items']]\n",
    "    d.append(r)\n",
    "trdf1 = pd.DataFrame(d, columns=['rid', 'qln', 'items'])\n",
    "trdf1['qln'] = trdf1['qln'].astype(int)\n",
    "\n",
    "d = []\n",
    "for _,row in tqdm(tedf.iterrows(), total=len(tedf)):\n",
    "    r = row['rid_qln'].split('_') + [row['items']]\n",
    "    d.append(r)\n",
    "tedf1 = pd.DataFrame(d, columns=['rid', 'qln', 'items'])\n",
    "tedf1['qln'] = tedf1['qln'].astype(int)\n",
    "\n",
    "del d"
   ]
  },
  {
   "cell_type": "code",
   "execution_count": 105,
   "metadata": {},
   "outputs": [],
   "source": [
    "trdf1.to_csv('data/cell-phones_train.tsv', sep='\\t', index=None)"
   ]
  },
  {
   "cell_type": "code",
   "execution_count": 106,
   "metadata": {},
   "outputs": [],
   "source": [
    "tedf1.to_csv('data/cell-phones_test.tsv', sep='\\t', index=None)"
   ]
  },
  {
   "cell_type": "code",
   "execution_count": null,
   "metadata": {},
   "outputs": [],
   "source": []
  },
  {
   "cell_type": "code",
   "execution_count": 103,
   "metadata": {},
   "outputs": [
    {
     "name": "stdout",
     "output_type": "stream",
     "text": [
      "(78,)\n"
     ]
    },
    {
     "data": {
      "text/plain": [
       "array([  0,   1,   2,   3,   4,   5,   6,   7,   8,   9,  10,  11,  12,\n",
       "        13,  14,  15,  16,  17,  18,  19,  20,  21,  22,  23,  24,  25,\n",
       "        26,  27,  28,  30,  31,  32,  33,  34,  35,  37,  38,  39,  43,\n",
       "        44,  45,  47,  50,  51,  52,  55,  64,  75,  77,  79,  82,  84,\n",
       "        88,  89,  90,  91,  93, 102, 103, 104, 106, 107, 108, 109, 118,\n",
       "       122, 123, 124, 126, 132, 135, 137, 140, 145, 155, 156, 157, 158])"
      ]
     },
     "execution_count": 103,
     "metadata": {},
     "output_type": "execute_result"
    }
   ],
   "source": [
    "_a = np.sort(pd.unique(trdf1['qln']))\n",
    "print(_a.shape)\n",
    "_a"
   ]
  },
  {
   "cell_type": "code",
   "execution_count": 104,
   "metadata": {},
   "outputs": [
    {
     "name": "stdout",
     "output_type": "stream",
     "text": [
      "(11,)\n"
     ]
    },
    {
     "data": {
      "text/plain": [
       "array([ 29,  48,  61,  63,  83, 111, 130, 133, 136, 138, 154])"
      ]
     },
     "execution_count": 104,
     "metadata": {},
     "output_type": "execute_result"
    }
   ],
   "source": [
    "_b = np.sort(pd.unique(tedf1['qln']))\n",
    "print(_b.shape)\n",
    "_b"
   ]
  },
  {
   "cell_type": "code",
   "execution_count": null,
   "metadata": {},
   "outputs": [],
   "source": []
  },
  {
   "cell_type": "code",
   "execution_count": null,
   "metadata": {},
   "outputs": [],
   "source": []
  },
  {
   "cell_type": "code",
   "execution_count": 12,
   "metadata": {},
   "outputs": [
    {
     "name": "stdout",
     "output_type": "stream",
     "text": [
      "                   0  1           2  3\n",
      "0   A21O5ULBAZD8SZ_8  0  B009NLTW60  1\n",
      "1   A21O5ULBAZD8SZ_8  0  B004CLYJ2I  1\n",
      "2   A21O5ULBAZD8SZ_1  0  B00GJT0KS8  1\n",
      "3  A21O5ULBAZD8SZ_10  0  B00FAADBHO  1\n",
      "4   A21O5ULBAZD8SZ_1  0  B00C6LJXPE  1\n",
      "(174087, 4)\n"
     ]
    }
   ],
   "source": [
    "print(traindf.head())\n",
    "print(traindf.shape)"
   ]
  },
  {
   "cell_type": "code",
   "execution_count": 13,
   "metadata": {},
   "outputs": [
    {
     "data": {
      "text/html": [
       "<div>\n",
       "<style scoped>\n",
       "    .dataframe tbody tr th:only-of-type {\n",
       "        vertical-align: middle;\n",
       "    }\n",
       "\n",
       "    .dataframe tbody tr th {\n",
       "        vertical-align: top;\n",
       "    }\n",
       "\n",
       "    .dataframe thead th {\n",
       "        text-align: right;\n",
       "    }\n",
       "</style>\n",
       "<table border=\"1\" class=\"dataframe\">\n",
       "  <thead>\n",
       "    <tr style=\"text-align: right;\">\n",
       "      <th></th>\n",
       "      <th>0</th>\n",
       "      <th>1</th>\n",
       "      <th>2</th>\n",
       "    </tr>\n",
       "    <tr>\n",
       "      <th>3</th>\n",
       "      <th></th>\n",
       "      <th></th>\n",
       "      <th></th>\n",
       "    </tr>\n",
       "  </thead>\n",
       "  <tbody>\n",
       "    <tr>\n",
       "      <th>1</th>\n",
       "      <td>174087</td>\n",
       "      <td>174087</td>\n",
       "      <td>174087</td>\n",
       "    </tr>\n",
       "  </tbody>\n",
       "</table>\n",
       "</div>"
      ],
      "text/plain": [
       "        0       1       2\n",
       "3                        \n",
       "1  174087  174087  174087"
      ]
     },
     "execution_count": 13,
     "metadata": {},
     "output_type": "execute_result"
    }
   ],
   "source": [
    "traindf.groupby(3).count()"
   ]
  },
  {
   "cell_type": "code",
   "execution_count": null,
   "metadata": {},
   "outputs": [],
   "source": []
  },
  {
   "cell_type": "code",
   "execution_count": 14,
   "metadata": {},
   "outputs": [],
   "source": [
    "tdf = traindf.groupby(0)[2].apply(list).reset_index()\n",
    "tdf.columns = ['rid_qln', 'items']"
   ]
  },
  {
   "cell_type": "code",
   "execution_count": 15,
   "metadata": {},
   "outputs": [
    {
     "name": "stdout",
     "output_type": "stream",
     "text": [
      "                    rid_qln                                             items\n",
      "0   A00126503SUWI86KZBMIN_1  [B00F856178, B009LXY59E, B006FEBZRC, B0090ENC6G]\n",
      "1   A00900752UZ2JAC47K2RR_1  [B008DJIGR4, B00GM5NA36, B00BVJ1M24, B00CXF1360]\n",
      "2  A00900752UZ2JAC47K2RR_12                                      [B00CTVIWQW]\n",
      "3  A00900752UZ2JAC47K2RR_27                                      [B00CUKEZ5E]\n",
      "4   A01038432MVI9JXYTTK5T_1                          [B006NMV59E, B0092HNN8I]\n",
      "(114177, 2)\n"
     ]
    }
   ],
   "source": [
    "print(tdf.head())\n",
    "print(tdf.shape)"
   ]
  },
  {
   "cell_type": "code",
   "execution_count": 25,
   "metadata": {},
   "outputs": [
    {
     "data": {
      "text/html": [
       "<div>\n",
       "<style scoped>\n",
       "    .dataframe tbody tr th:only-of-type {\n",
       "        vertical-align: middle;\n",
       "    }\n",
       "\n",
       "    .dataframe tbody tr th {\n",
       "        vertical-align: top;\n",
       "    }\n",
       "\n",
       "    .dataframe thead th {\n",
       "        text-align: right;\n",
       "    }\n",
       "</style>\n",
       "<table border=\"1\" class=\"dataframe\">\n",
       "  <thead>\n",
       "    <tr style=\"text-align: right;\">\n",
       "      <th></th>\n",
       "      <th>rid_qln</th>\n",
       "      <th>items</th>\n",
       "    </tr>\n",
       "  </thead>\n",
       "  <tbody>\n",
       "    <tr>\n",
       "      <th>0</th>\n",
       "      <td>A00126503SUWI86KZBMIN_1</td>\n",
       "      <td>[B00F856178, B009LXY59E, B006FEBZRC, B0090ENC6G]</td>\n",
       "    </tr>\n",
       "    <tr>\n",
       "      <th>1</th>\n",
       "      <td>A00900752UZ2JAC47K2RR_1</td>\n",
       "      <td>[B008DJIGR4, B00GM5NA36, B00BVJ1M24, B00CXF1360]</td>\n",
       "    </tr>\n",
       "    <tr>\n",
       "      <th>7</th>\n",
       "      <td>A01280172LF55QBT4IBHA_1</td>\n",
       "      <td>[B008R3M8V6, B00HVPXHMA, B007TOFIJI, B00821ZB4...</td>\n",
       "    </tr>\n",
       "    <tr>\n",
       "      <th>11</th>\n",
       "      <td>A01410041ZE038XXVXLBB_1</td>\n",
       "      <td>[B009NY9U4Q, B00974L0EA, B005SUHPO6]</td>\n",
       "    </tr>\n",
       "    <tr>\n",
       "      <th>15</th>\n",
       "      <td>A01534622D57NTXSH2WBR_1</td>\n",
       "      <td>[B005JHIYLG, B005BYSV7O, B008N7TTLS]</td>\n",
       "    </tr>\n",
       "    <tr>\n",
       "      <th>...</th>\n",
       "      <td>...</td>\n",
       "      <td>...</td>\n",
       "    </tr>\n",
       "    <tr>\n",
       "      <th>114119</th>\n",
       "      <td>AZXXVMQWISPH6_1</td>\n",
       "      <td>[B00IIWKQX8, B00JKCH4V2, B00G4JU0EC, B00I3UWD7...</td>\n",
       "    </tr>\n",
       "    <tr>\n",
       "      <th>114127</th>\n",
       "      <td>AZY9QUTCY57UV_1</td>\n",
       "      <td>[B009HK8TQQ, B00A8RUZEG, B00ICMYI10]</td>\n",
       "    </tr>\n",
       "    <tr>\n",
       "      <th>114139</th>\n",
       "      <td>AZYJTD9J82V5I_1</td>\n",
       "      <td>[B00EZHZ77A, B00ENOB0A8, B00993E7PI]</td>\n",
       "    </tr>\n",
       "    <tr>\n",
       "      <th>114170</th>\n",
       "      <td>AZZYW4YOE1B6E_1</td>\n",
       "      <td>[B00993E7PI, B00A4EAJNA, B00BR33KK6]</td>\n",
       "    </tr>\n",
       "    <tr>\n",
       "      <th>114175</th>\n",
       "      <td>AZZYW4YOE1B6E_5</td>\n",
       "      <td>[B005X1Y7I2, B00DWKK6PE, B009USAJCC]</td>\n",
       "    </tr>\n",
       "  </tbody>\n",
       "</table>\n",
       "<p>14381 rows × 2 columns</p>\n",
       "</div>"
      ],
      "text/plain": [
       "                        rid_qln  \\\n",
       "0       A00126503SUWI86KZBMIN_1   \n",
       "1       A00900752UZ2JAC47K2RR_1   \n",
       "7       A01280172LF55QBT4IBHA_1   \n",
       "11      A01410041ZE038XXVXLBB_1   \n",
       "15      A01534622D57NTXSH2WBR_1   \n",
       "...                         ...   \n",
       "114119          AZXXVMQWISPH6_1   \n",
       "114127          AZY9QUTCY57UV_1   \n",
       "114139          AZYJTD9J82V5I_1   \n",
       "114170          AZZYW4YOE1B6E_1   \n",
       "114175          AZZYW4YOE1B6E_5   \n",
       "\n",
       "                                                    items  \n",
       "0        [B00F856178, B009LXY59E, B006FEBZRC, B0090ENC6G]  \n",
       "1        [B008DJIGR4, B00GM5NA36, B00BVJ1M24, B00CXF1360]  \n",
       "7       [B008R3M8V6, B00HVPXHMA, B007TOFIJI, B00821ZB4...  \n",
       "11                   [B009NY9U4Q, B00974L0EA, B005SUHPO6]  \n",
       "15                   [B005JHIYLG, B005BYSV7O, B008N7TTLS]  \n",
       "...                                                   ...  \n",
       "114119  [B00IIWKQX8, B00JKCH4V2, B00G4JU0EC, B00I3UWD7...  \n",
       "114127               [B009HK8TQQ, B00A8RUZEG, B00ICMYI10]  \n",
       "114139               [B00EZHZ77A, B00ENOB0A8, B00993E7PI]  \n",
       "114170               [B00993E7PI, B00A4EAJNA, B00BR33KK6]  \n",
       "114175               [B005X1Y7I2, B00DWKK6PE, B009USAJCC]  \n",
       "\n",
       "[14381 rows x 2 columns]"
      ]
     },
     "execution_count": 25,
     "metadata": {},
     "output_type": "execute_result"
    }
   ],
   "source": [
    "# keep only rows with len(items) >= 3\n",
    "tdf[tdf['items'].apply(lambda x: len(x)>=3)]"
   ]
  },
  {
   "cell_type": "code",
   "execution_count": null,
   "metadata": {},
   "outputs": [],
   "source": []
  },
  {
   "cell_type": "code",
   "execution_count": 16,
   "metadata": {},
   "outputs": [],
   "source": [
    "itlens = []\n",
    "for i in list(tdf['items']):\n",
    "    itlens.append(len(i))"
   ]
  },
  {
   "cell_type": "code",
   "execution_count": 20,
   "metadata": {},
   "outputs": [
    {
     "data": {
      "text/plain": [
       "<Axes: ylabel='Count'>"
      ]
     },
     "execution_count": 20,
     "metadata": {},
     "output_type": "execute_result"
    },
    {
     "data": {
      "image/png": "[encoded data removed]",
      "text/plain": [
       "<Figure size 1000x600 with 1 Axes>"
      ]
     },
     "metadata": {},
     "output_type": "display_data"
    }
   ],
   "source": [
    "plt.figure(figsize=[10,6])\n",
    "sns.histplot(itlens, bins=40)"
   ]
  },
  {
   "cell_type": "code",
   "execution_count": 26,
   "metadata": {},
   "outputs": [
    {
     "name": "stdout",
     "output_type": "stream",
     "text": [
      "max: 31\n",
      "min: 1\n",
      "avg: 1.52\n"
     ]
    }
   ],
   "source": [
    "print('max:', max(itlens))\n",
    "print('min:', min(itlens))\n",
    "print('avg:', f'{np.mean(itlens):.2f}')"
   ]
  },
  {
   "cell_type": "code",
   "execution_count": null,
   "metadata": {},
   "outputs": [],
   "source": []
  },
  {
   "cell_type": "markdown",
   "metadata": {},
   "source": [
    "### Processing user-item interaction data"
   ]
  },
  {
   "cell_type": "code",
   "execution_count": 27,
   "metadata": {},
   "outputs": [
    {
     "name": "stderr",
     "output_type": "stream",
     "text": [
      "100%|██████████| 114177/114177 [00:02<00:00, 45206.62it/s]\n"
     ]
    }
   ],
   "source": [
    "d = []\n",
    "for _,row in tqdm(tdf.iterrows(), total=len(tdf)):\n",
    "    r = row['rid_qln'].split('_') + [row['items']]\n",
    "    d.append(r)\n",
    "tdf1 = pd.DataFrame(d, columns=['rid', 'qln', 'items'])\n",
    "del d"
   ]
  },
  {
   "cell_type": "code",
   "execution_count": 13,
   "metadata": {},
   "outputs": [
    {
     "data": {
      "text/html": [
       "<div>\n",
       "<style scoped>\n",
       "    .dataframe tbody tr th:only-of-type {\n",
       "        vertical-align: middle;\n",
       "    }\n",
       "\n",
       "    .dataframe tbody tr th {\n",
       "        vertical-align: top;\n",
       "    }\n",
       "\n",
       "    .dataframe thead th {\n",
       "        text-align: right;\n",
       "    }\n",
       "</style>\n",
       "<table border=\"1\" class=\"dataframe\">\n",
       "  <thead>\n",
       "    <tr style=\"text-align: right;\">\n",
       "      <th></th>\n",
       "      <th>rid</th>\n",
       "      <th>qln</th>\n",
       "      <th>items</th>\n",
       "    </tr>\n",
       "  </thead>\n",
       "  <tbody>\n",
       "    <tr>\n",
       "      <th>0</th>\n",
       "      <td>A00126503SUWI86KZBMIN</td>\n",
       "      <td>1</td>\n",
       "      <td>[B00F856178, B009LXY59E, B006FEBZRC, B0090ENC6G]</td>\n",
       "    </tr>\n",
       "    <tr>\n",
       "      <th>1</th>\n",
       "      <td>A00900752UZ2JAC47K2RR</td>\n",
       "      <td>1</td>\n",
       "      <td>[B008DJIGR4, B00GM5NA36, B00BVJ1M24, B00CXF1360]</td>\n",
       "    </tr>\n",
       "    <tr>\n",
       "      <th>2</th>\n",
       "      <td>A00900752UZ2JAC47K2RR</td>\n",
       "      <td>12</td>\n",
       "      <td>[B00CTVIWQW]</td>\n",
       "    </tr>\n",
       "    <tr>\n",
       "      <th>3</th>\n",
       "      <td>A00900752UZ2JAC47K2RR</td>\n",
       "      <td>27</td>\n",
       "      <td>[B00CUKEZ5E]</td>\n",
       "    </tr>\n",
       "    <tr>\n",
       "      <th>4</th>\n",
       "      <td>A01038432MVI9JXYTTK5T</td>\n",
       "      <td>1</td>\n",
       "      <td>[B006NMV59E, B0092HNN8I]</td>\n",
       "    </tr>\n",
       "    <tr>\n",
       "      <th>...</th>\n",
       "      <td>...</td>\n",
       "      <td>...</td>\n",
       "      <td>...</td>\n",
       "    </tr>\n",
       "    <tr>\n",
       "      <th>114172</th>\n",
       "      <td>AZZYW4YOE1B6E</td>\n",
       "      <td>17</td>\n",
       "      <td>[B004CLYJ0A]</td>\n",
       "    </tr>\n",
       "    <tr>\n",
       "      <th>114173</th>\n",
       "      <td>AZZYW4YOE1B6E</td>\n",
       "      <td>22</td>\n",
       "      <td>[B000S0B9ZC]</td>\n",
       "    </tr>\n",
       "    <tr>\n",
       "      <th>114174</th>\n",
       "      <td>AZZYW4YOE1B6E</td>\n",
       "      <td>37</td>\n",
       "      <td>[B005X1Y7I2, B009USAJCC]</td>\n",
       "    </tr>\n",
       "    <tr>\n",
       "      <th>114175</th>\n",
       "      <td>AZZYW4YOE1B6E</td>\n",
       "      <td>5</td>\n",
       "      <td>[B005X1Y7I2, B00DWKK6PE, B009USAJCC]</td>\n",
       "    </tr>\n",
       "    <tr>\n",
       "      <th>114176</th>\n",
       "      <td>AZZYW4YOE1B6E</td>\n",
       "      <td>6</td>\n",
       "      <td>[B0070UKBO8]</td>\n",
       "    </tr>\n",
       "  </tbody>\n",
       "</table>\n",
       "<p>114177 rows × 3 columns</p>\n",
       "</div>"
      ],
      "text/plain": [
       "                          rid qln  \\\n",
       "0       A00126503SUWI86KZBMIN   1   \n",
       "1       A00900752UZ2JAC47K2RR   1   \n",
       "2       A00900752UZ2JAC47K2RR  12   \n",
       "3       A00900752UZ2JAC47K2RR  27   \n",
       "4       A01038432MVI9JXYTTK5T   1   \n",
       "...                       ...  ..   \n",
       "114172          AZZYW4YOE1B6E  17   \n",
       "114173          AZZYW4YOE1B6E  22   \n",
       "114174          AZZYW4YOE1B6E  37   \n",
       "114175          AZZYW4YOE1B6E   5   \n",
       "114176          AZZYW4YOE1B6E   6   \n",
       "\n",
       "                                                   items  \n",
       "0       [B00F856178, B009LXY59E, B006FEBZRC, B0090ENC6G]  \n",
       "1       [B008DJIGR4, B00GM5NA36, B00BVJ1M24, B00CXF1360]  \n",
       "2                                           [B00CTVIWQW]  \n",
       "3                                           [B00CUKEZ5E]  \n",
       "4                               [B006NMV59E, B0092HNN8I]  \n",
       "...                                                  ...  \n",
       "114172                                      [B004CLYJ0A]  \n",
       "114173                                      [B000S0B9ZC]  \n",
       "114174                          [B005X1Y7I2, B009USAJCC]  \n",
       "114175              [B005X1Y7I2, B00DWKK6PE, B009USAJCC]  \n",
       "114176                                      [B0070UKBO8]  \n",
       "\n",
       "[114177 rows x 3 columns]"
      ]
     },
     "execution_count": 13,
     "metadata": {},
     "output_type": "execute_result"
    }
   ],
   "source": [
    "tdf1"
   ]
  },
  {
   "cell_type": "code",
   "execution_count": 28,
   "metadata": {},
   "outputs": [],
   "source": [
    "tdf2 = tdf1.copy()\n",
    "tdf2['qtext'] = tdf2['qln'].apply(lambda x: qtext[int(x)])\n",
    "tdf2 = tdf2[['rid', 'qtext', 'items']]"
   ]
  },
  {
   "cell_type": "code",
   "execution_count": 29,
   "metadata": {},
   "outputs": [
    {
     "data": {
      "text/html": [
       "<div>\n",
       "<style scoped>\n",
       "    .dataframe tbody tr th:only-of-type {\n",
       "        vertical-align: middle;\n",
       "    }\n",
       "\n",
       "    .dataframe tbody tr th {\n",
       "        vertical-align: top;\n",
       "    }\n",
       "\n",
       "    .dataframe thead th {\n",
       "        text-align: right;\n",
       "    }\n",
       "</style>\n",
       "<table border=\"1\" class=\"dataframe\">\n",
       "  <thead>\n",
       "    <tr style=\"text-align: right;\">\n",
       "      <th></th>\n",
       "      <th>rid</th>\n",
       "      <th>qtext</th>\n",
       "      <th>items</th>\n",
       "    </tr>\n",
       "  </thead>\n",
       "  <tbody>\n",
       "    <tr>\n",
       "      <th>0</th>\n",
       "      <td>A00126503SUWI86KZBMIN</td>\n",
       "      <td>cell phone accessory basic case</td>\n",
       "      <td>[B00F856178, B009LXY59E, B006FEBZRC, B0090ENC6G]</td>\n",
       "    </tr>\n",
       "    <tr>\n",
       "      <th>1</th>\n",
       "      <td>A00900752UZ2JAC47K2RR</td>\n",
       "      <td>cell phone accessory basic case</td>\n",
       "      <td>[B008DJIGR4, B00GM5NA36, B00BVJ1M24, B00CXF1360]</td>\n",
       "    </tr>\n",
       "    <tr>\n",
       "      <th>2</th>\n",
       "      <td>A00900752UZ2JAC47K2RR</td>\n",
       "      <td>cell phone accessory screen protector</td>\n",
       "      <td>[B00CTVIWQW]</td>\n",
       "    </tr>\n",
       "    <tr>\n",
       "      <th>3</th>\n",
       "      <td>A00900752UZ2JAC47K2RR</td>\n",
       "      <td>cell phone accessory cradle car mount</td>\n",
       "      <td>[B00CUKEZ5E]</td>\n",
       "    </tr>\n",
       "    <tr>\n",
       "      <th>4</th>\n",
       "      <td>A01038432MVI9JXYTTK5T</td>\n",
       "      <td>cell phone accessory basic case</td>\n",
       "      <td>[B006NMV59E, B0092HNN8I]</td>\n",
       "    </tr>\n",
       "    <tr>\n",
       "      <th>...</th>\n",
       "      <td>...</td>\n",
       "      <td>...</td>\n",
       "      <td>...</td>\n",
       "    </tr>\n",
       "    <tr>\n",
       "      <th>114172</th>\n",
       "      <td>AZZYW4YOE1B6E</td>\n",
       "      <td>cell phone accessory car charger</td>\n",
       "      <td>[B004CLYJ0A]</td>\n",
       "    </tr>\n",
       "    <tr>\n",
       "      <th>114173</th>\n",
       "      <td>AZZYW4YOE1B6E</td>\n",
       "      <td>cell phone accessory case holster clip</td>\n",
       "      <td>[B000S0B9ZC]</td>\n",
       "    </tr>\n",
       "    <tr>\n",
       "      <th>114174</th>\n",
       "      <td>AZZYW4YOE1B6E</td>\n",
       "      <td>electronics computer touch screen tablet acces...</td>\n",
       "      <td>[B005X1Y7I2, B009USAJCC]</td>\n",
       "    </tr>\n",
       "    <tr>\n",
       "      <th>114175</th>\n",
       "      <td>AZZYW4YOE1B6E</td>\n",
       "      <td>cell phone accessory external battery pack</td>\n",
       "      <td>[B005X1Y7I2, B00DWKK6PE, B009USAJCC]</td>\n",
       "    </tr>\n",
       "    <tr>\n",
       "      <th>114176</th>\n",
       "      <td>AZZYW4YOE1B6E</td>\n",
       "      <td>cell phone accessory bluetooth headset</td>\n",
       "      <td>[B0070UKBO8]</td>\n",
       "    </tr>\n",
       "  </tbody>\n",
       "</table>\n",
       "<p>114177 rows × 3 columns</p>\n",
       "</div>"
      ],
      "text/plain": [
       "                          rid  \\\n",
       "0       A00126503SUWI86KZBMIN   \n",
       "1       A00900752UZ2JAC47K2RR   \n",
       "2       A00900752UZ2JAC47K2RR   \n",
       "3       A00900752UZ2JAC47K2RR   \n",
       "4       A01038432MVI9JXYTTK5T   \n",
       "...                       ...   \n",
       "114172          AZZYW4YOE1B6E   \n",
       "114173          AZZYW4YOE1B6E   \n",
       "114174          AZZYW4YOE1B6E   \n",
       "114175          AZZYW4YOE1B6E   \n",
       "114176          AZZYW4YOE1B6E   \n",
       "\n",
       "                                                    qtext  \\\n",
       "0                         cell phone accessory basic case   \n",
       "1                         cell phone accessory basic case   \n",
       "2                   cell phone accessory screen protector   \n",
       "3                   cell phone accessory cradle car mount   \n",
       "4                         cell phone accessory basic case   \n",
       "...                                                   ...   \n",
       "114172                   cell phone accessory car charger   \n",
       "114173             cell phone accessory case holster clip   \n",
       "114174  electronics computer touch screen tablet acces...   \n",
       "114175         cell phone accessory external battery pack   \n",
       "114176             cell phone accessory bluetooth headset   \n",
       "\n",
       "                                                   items  \n",
       "0       [B00F856178, B009LXY59E, B006FEBZRC, B0090ENC6G]  \n",
       "1       [B008DJIGR4, B00GM5NA36, B00BVJ1M24, B00CXF1360]  \n",
       "2                                           [B00CTVIWQW]  \n",
       "3                                           [B00CUKEZ5E]  \n",
       "4                               [B006NMV59E, B0092HNN8I]  \n",
       "...                                                  ...  \n",
       "114172                                      [B004CLYJ0A]  \n",
       "114173                                      [B000S0B9ZC]  \n",
       "114174                          [B005X1Y7I2, B009USAJCC]  \n",
       "114175              [B005X1Y7I2, B00DWKK6PE, B009USAJCC]  \n",
       "114176                                      [B0070UKBO8]  \n",
       "\n",
       "[114177 rows x 3 columns]"
      ]
     },
     "execution_count": 29,
     "metadata": {},
     "output_type": "execute_result"
    }
   ],
   "source": [
    "tdf2"
   ]
  },
  {
   "cell_type": "code",
   "execution_count": null,
   "metadata": {},
   "outputs": [],
   "source": []
  },
  {
   "cell_type": "markdown",
   "metadata": {},
   "source": [
    "### Processing user-item review data"
   ]
  },
  {
   "cell_type": "code",
   "execution_count": 30,
   "metadata": {},
   "outputs": [],
   "source": [
    "idf = itemdf[['reviewerID', 'asin', 'reviewText']]"
   ]
  },
  {
   "cell_type": "code",
   "execution_count": 31,
   "metadata": {},
   "outputs": [
    {
     "data": {
      "text/html": [
       "<div>\n",
       "<style scoped>\n",
       "    .dataframe tbody tr th:only-of-type {\n",
       "        vertical-align: middle;\n",
       "    }\n",
       "\n",
       "    .dataframe tbody tr th {\n",
       "        vertical-align: top;\n",
       "    }\n",
       "\n",
       "    .dataframe thead th {\n",
       "        text-align: right;\n",
       "    }\n",
       "</style>\n",
       "<table border=\"1\" class=\"dataframe\">\n",
       "  <thead>\n",
       "    <tr style=\"text-align: right;\">\n",
       "      <th></th>\n",
       "      <th>reviewerID</th>\n",
       "      <th>asin</th>\n",
       "      <th>reviewText</th>\n",
       "    </tr>\n",
       "  </thead>\n",
       "  <tbody>\n",
       "    <tr>\n",
       "      <th>0</th>\n",
       "      <td>A24E3SXTC62LJI</td>\n",
       "      <td>7508492919</td>\n",
       "      <td>Looks even better in person. Be careful to not...</td>\n",
       "    </tr>\n",
       "    <tr>\n",
       "      <th>1</th>\n",
       "      <td>A269FLZCB4GIPV</td>\n",
       "      <td>7508492919</td>\n",
       "      <td>When you don't want to spend a whole lot of ca...</td>\n",
       "    </tr>\n",
       "    <tr>\n",
       "      <th>2</th>\n",
       "      <td>AB6CHQWHZW4TV</td>\n",
       "      <td>7508492919</td>\n",
       "      <td>so the case came on time, i love the design. I...</td>\n",
       "    </tr>\n",
       "    <tr>\n",
       "      <th>3</th>\n",
       "      <td>A1M117A53LEI8</td>\n",
       "      <td>7508492919</td>\n",
       "      <td>DON'T CARE FOR IT.  GAVE IT AS A GIFT AND THEY...</td>\n",
       "    </tr>\n",
       "    <tr>\n",
       "      <th>4</th>\n",
       "      <td>A272DUT8M88ZS8</td>\n",
       "      <td>7508492919</td>\n",
       "      <td>I liked it because it was cute, but the studs ...</td>\n",
       "    </tr>\n",
       "    <tr>\n",
       "      <th>...</th>\n",
       "      <td>...</td>\n",
       "      <td>...</td>\n",
       "      <td>...</td>\n",
       "    </tr>\n",
       "    <tr>\n",
       "      <th>1128432</th>\n",
       "      <td>A1QWMCG1FNEP3A</td>\n",
       "      <td>B01HJC7N4C</td>\n",
       "      <td>Good for viewing. But doesn't have a button or...</td>\n",
       "    </tr>\n",
       "    <tr>\n",
       "      <th>1128433</th>\n",
       "      <td>A3FOBEJ9UVUTR3</td>\n",
       "      <td>B01HJC7N4C</td>\n",
       "      <td>I was given the Rockrok 3D VR Glasses Headset ...</td>\n",
       "    </tr>\n",
       "    <tr>\n",
       "      <th>1128434</th>\n",
       "      <td>AMUEAMKB4E33M</td>\n",
       "      <td>B01HJC7N4C</td>\n",
       "      <td>Super Fun! The RockRoc 3d vr headset is waaaay...</td>\n",
       "    </tr>\n",
       "    <tr>\n",
       "      <th>1128435</th>\n",
       "      <td>A2EV91MMOJ3IL4</td>\n",
       "      <td>B01HJC7N4C</td>\n",
       "      <td>Love it!\\n\\nI've had other VR glasses which al...</td>\n",
       "    </tr>\n",
       "    <tr>\n",
       "      <th>1128436</th>\n",
       "      <td>ARKQD9Z1VPOV2</td>\n",
       "      <td>B01HJH9IN6</td>\n",
       "      <td>i love it</td>\n",
       "    </tr>\n",
       "  </tbody>\n",
       "</table>\n",
       "<p>1128437 rows × 3 columns</p>\n",
       "</div>"
      ],
      "text/plain": [
       "             reviewerID        asin  \\\n",
       "0        A24E3SXTC62LJI  7508492919   \n",
       "1        A269FLZCB4GIPV  7508492919   \n",
       "2         AB6CHQWHZW4TV  7508492919   \n",
       "3         A1M117A53LEI8  7508492919   \n",
       "4        A272DUT8M88ZS8  7508492919   \n",
       "...                 ...         ...   \n",
       "1128432  A1QWMCG1FNEP3A  B01HJC7N4C   \n",
       "1128433  A3FOBEJ9UVUTR3  B01HJC7N4C   \n",
       "1128434   AMUEAMKB4E33M  B01HJC7N4C   \n",
       "1128435  A2EV91MMOJ3IL4  B01HJC7N4C   \n",
       "1128436   ARKQD9Z1VPOV2  B01HJH9IN6   \n",
       "\n",
       "                                                reviewText  \n",
       "0        Looks even better in person. Be careful to not...  \n",
       "1        When you don't want to spend a whole lot of ca...  \n",
       "2        so the case came on time, i love the design. I...  \n",
       "3        DON'T CARE FOR IT.  GAVE IT AS A GIFT AND THEY...  \n",
       "4        I liked it because it was cute, but the studs ...  \n",
       "...                                                    ...  \n",
       "1128432  Good for viewing. But doesn't have a button or...  \n",
       "1128433  I was given the Rockrok 3D VR Glasses Headset ...  \n",
       "1128434  Super Fun! The RockRoc 3d vr headset is waaaay...  \n",
       "1128435  Love it!\\n\\nI've had other VR glasses which al...  \n",
       "1128436                                          i love it  \n",
       "\n",
       "[1128437 rows x 3 columns]"
      ]
     },
     "execution_count": 31,
     "metadata": {},
     "output_type": "execute_result"
    }
   ],
   "source": [
    "idf"
   ]
  },
  {
   "cell_type": "code",
   "execution_count": 32,
   "metadata": {},
   "outputs": [],
   "source": [
    "idf1 = idf[idf['reviewerID'].isin(tdf1['rid'])]\n",
    "idf1.columns = ['rid', 'asin', 'rtext']"
   ]
  },
  {
   "cell_type": "code",
   "execution_count": 33,
   "metadata": {},
   "outputs": [
    {
     "data": {
      "text/html": [
       "<div>\n",
       "<style scoped>\n",
       "    .dataframe tbody tr th:only-of-type {\n",
       "        vertical-align: middle;\n",
       "    }\n",
       "\n",
       "    .dataframe tbody tr th {\n",
       "        vertical-align: top;\n",
       "    }\n",
       "\n",
       "    .dataframe thead th {\n",
       "        text-align: right;\n",
       "    }\n",
       "</style>\n",
       "<table border=\"1\" class=\"dataframe\">\n",
       "  <thead>\n",
       "    <tr style=\"text-align: right;\">\n",
       "      <th></th>\n",
       "      <th>rid</th>\n",
       "      <th>asin</th>\n",
       "      <th>rtext</th>\n",
       "    </tr>\n",
       "  </thead>\n",
       "  <tbody>\n",
       "    <tr>\n",
       "      <th>2</th>\n",
       "      <td>AB6CHQWHZW4TV</td>\n",
       "      <td>7508492919</td>\n",
       "      <td>so the case came on time, i love the design. I...</td>\n",
       "    </tr>\n",
       "    <tr>\n",
       "      <th>3</th>\n",
       "      <td>A1M117A53LEI8</td>\n",
       "      <td>7508492919</td>\n",
       "      <td>DON'T CARE FOR IT.  GAVE IT AS A GIFT AND THEY...</td>\n",
       "    </tr>\n",
       "    <tr>\n",
       "      <th>4</th>\n",
       "      <td>A272DUT8M88ZS8</td>\n",
       "      <td>7508492919</td>\n",
       "      <td>I liked it because it was cute, but the studs ...</td>\n",
       "    </tr>\n",
       "    <tr>\n",
       "      <th>5</th>\n",
       "      <td>A1DW2L6XCC5TJS</td>\n",
       "      <td>7508492919</td>\n",
       "      <td>The product looked exactly like the picture an...</td>\n",
       "    </tr>\n",
       "    <tr>\n",
       "      <th>6</th>\n",
       "      <td>AQC61R4UST7UH</td>\n",
       "      <td>7508492919</td>\n",
       "      <td>I FINALLY got my case today. It took forever t...</td>\n",
       "    </tr>\n",
       "    <tr>\n",
       "      <th>...</th>\n",
       "      <td>...</td>\n",
       "      <td>...</td>\n",
       "      <td>...</td>\n",
       "    </tr>\n",
       "    <tr>\n",
       "      <th>1128302</th>\n",
       "      <td>A2HO3OKHW50KOY</td>\n",
       "      <td>B01HCFSDOA</td>\n",
       "      <td>Very slim and soft.  It fits easy in my pocket...</td>\n",
       "    </tr>\n",
       "    <tr>\n",
       "      <th>1128308</th>\n",
       "      <td>A1MJGVG0CE3H2N</td>\n",
       "      <td>B01HCH1DEK</td>\n",
       "      <td>great long lasting band</td>\n",
       "    </tr>\n",
       "    <tr>\n",
       "      <th>1128332</th>\n",
       "      <td>A2NK4K0GKSIRI</td>\n",
       "      <td>B01HDPWVJC</td>\n",
       "      <td>This is my second protector of this type. Befo...</td>\n",
       "    </tr>\n",
       "    <tr>\n",
       "      <th>1128392</th>\n",
       "      <td>A3TW0VH52JZD78</td>\n",
       "      <td>B01HGIMQ1E</td>\n",
       "      <td>IT MATCH THE COLOR OF MY PHONE AND MADE THE LO...</td>\n",
       "    </tr>\n",
       "    <tr>\n",
       "      <th>1128435</th>\n",
       "      <td>A2EV91MMOJ3IL4</td>\n",
       "      <td>B01HJC7N4C</td>\n",
       "      <td>Love it!\\n\\nI've had other VR glasses which al...</td>\n",
       "    </tr>\n",
       "  </tbody>\n",
       "</table>\n",
       "<p>156592 rows × 3 columns</p>\n",
       "</div>"
      ],
      "text/plain": [
       "                    rid        asin  \\\n",
       "2         AB6CHQWHZW4TV  7508492919   \n",
       "3         A1M117A53LEI8  7508492919   \n",
       "4        A272DUT8M88ZS8  7508492919   \n",
       "5        A1DW2L6XCC5TJS  7508492919   \n",
       "6         AQC61R4UST7UH  7508492919   \n",
       "...                 ...         ...   \n",
       "1128302  A2HO3OKHW50KOY  B01HCFSDOA   \n",
       "1128308  A1MJGVG0CE3H2N  B01HCH1DEK   \n",
       "1128332   A2NK4K0GKSIRI  B01HDPWVJC   \n",
       "1128392  A3TW0VH52JZD78  B01HGIMQ1E   \n",
       "1128435  A2EV91MMOJ3IL4  B01HJC7N4C   \n",
       "\n",
       "                                                     rtext  \n",
       "2        so the case came on time, i love the design. I...  \n",
       "3        DON'T CARE FOR IT.  GAVE IT AS A GIFT AND THEY...  \n",
       "4        I liked it because it was cute, but the studs ...  \n",
       "5        The product looked exactly like the picture an...  \n",
       "6        I FINALLY got my case today. It took forever t...  \n",
       "...                                                    ...  \n",
       "1128302  Very slim and soft.  It fits easy in my pocket...  \n",
       "1128308                            great long lasting band  \n",
       "1128332  This is my second protector of this type. Befo...  \n",
       "1128392  IT MATCH THE COLOR OF MY PHONE AND MADE THE LO...  \n",
       "1128435  Love it!\\n\\nI've had other VR glasses which al...  \n",
       "\n",
       "[156592 rows x 3 columns]"
      ]
     },
     "execution_count": 33,
     "metadata": {},
     "output_type": "execute_result"
    }
   ],
   "source": [
    "idf1"
   ]
  },
  {
   "cell_type": "code",
   "execution_count": null,
   "metadata": {},
   "outputs": [],
   "source": []
  },
  {
   "cell_type": "code",
   "execution_count": 39,
   "metadata": {},
   "outputs": [
    {
     "data": {
      "text/html": [
       "<div>\n",
       "<style scoped>\n",
       "    .dataframe tbody tr th:only-of-type {\n",
       "        vertical-align: middle;\n",
       "    }\n",
       "\n",
       "    .dataframe tbody tr th {\n",
       "        vertical-align: top;\n",
       "    }\n",
       "\n",
       "    .dataframe thead th {\n",
       "        text-align: right;\n",
       "    }\n",
       "</style>\n",
       "<table border=\"1\" class=\"dataframe\">\n",
       "  <thead>\n",
       "    <tr style=\"text-align: right;\">\n",
       "      <th></th>\n",
       "      <th>0</th>\n",
       "      <th>1</th>\n",
       "      <th>2</th>\n",
       "      <th>3</th>\n",
       "    </tr>\n",
       "  </thead>\n",
       "  <tbody>\n",
       "    <tr>\n",
       "      <th>7</th>\n",
       "      <td>A21O5ULBAZD8SZ_12</td>\n",
       "      <td>0</td>\n",
       "      <td>B00HTK5U9K</td>\n",
       "      <td>1</td>\n",
       "    </tr>\n",
       "    <tr>\n",
       "      <th>10</th>\n",
       "      <td>A21O5ULBAZD8SZ_27</td>\n",
       "      <td>0</td>\n",
       "      <td>B004G1L52Q</td>\n",
       "      <td>1</td>\n",
       "    </tr>\n",
       "    <tr>\n",
       "      <th>11</th>\n",
       "      <td>A21O5ULBAZD8SZ_1</td>\n",
       "      <td>0</td>\n",
       "      <td>B00FZ14E3S</td>\n",
       "      <td>1</td>\n",
       "    </tr>\n",
       "    <tr>\n",
       "      <th>15</th>\n",
       "      <td>A2U1WQYFE8E63W_1</td>\n",
       "      <td>0</td>\n",
       "      <td>B00756KYD0</td>\n",
       "      <td>1</td>\n",
       "    </tr>\n",
       "    <tr>\n",
       "      <th>16</th>\n",
       "      <td>A2U1WQYFE8E63W_1</td>\n",
       "      <td>0</td>\n",
       "      <td>B00713P0BS</td>\n",
       "      <td>1</td>\n",
       "    </tr>\n",
       "    <tr>\n",
       "      <th>...</th>\n",
       "      <td>...</td>\n",
       "      <td>...</td>\n",
       "      <td>...</td>\n",
       "      <td>...</td>\n",
       "    </tr>\n",
       "    <tr>\n",
       "      <th>174074</th>\n",
       "      <td>A2A57LU86SDAQI_3</td>\n",
       "      <td>0</td>\n",
       "      <td>B00B26ZSL2</td>\n",
       "      <td>1</td>\n",
       "    </tr>\n",
       "    <tr>\n",
       "      <th>174076</th>\n",
       "      <td>A2A57LU86SDAQI_17</td>\n",
       "      <td>0</td>\n",
       "      <td>B003JIAA4Q</td>\n",
       "      <td>1</td>\n",
       "    </tr>\n",
       "    <tr>\n",
       "      <th>174079</th>\n",
       "      <td>A2DEH4K0NBYUSH_3</td>\n",
       "      <td>0</td>\n",
       "      <td>B004XUNRRQ</td>\n",
       "      <td>1</td>\n",
       "    </tr>\n",
       "    <tr>\n",
       "      <th>174082</th>\n",
       "      <td>A2DEH4K0NBYUSH_1</td>\n",
       "      <td>0</td>\n",
       "      <td>B004WXC4P0</td>\n",
       "      <td>1</td>\n",
       "    </tr>\n",
       "    <tr>\n",
       "      <th>174084</th>\n",
       "      <td>A3P57IGTOBK96O_27</td>\n",
       "      <td>0</td>\n",
       "      <td>B00EA3PCFQ</td>\n",
       "      <td>1</td>\n",
       "    </tr>\n",
       "  </tbody>\n",
       "</table>\n",
       "<p>73531 rows × 4 columns</p>\n",
       "</div>"
      ],
      "text/plain": [
       "                        0  1           2  3\n",
       "7       A21O5ULBAZD8SZ_12  0  B00HTK5U9K  1\n",
       "10      A21O5ULBAZD8SZ_27  0  B004G1L52Q  1\n",
       "11       A21O5ULBAZD8SZ_1  0  B00FZ14E3S  1\n",
       "15       A2U1WQYFE8E63W_1  0  B00756KYD0  1\n",
       "16       A2U1WQYFE8E63W_1  0  B00713P0BS  1\n",
       "...                   ... ..         ... ..\n",
       "174074   A2A57LU86SDAQI_3  0  B00B26ZSL2  1\n",
       "174076  A2A57LU86SDAQI_17  0  B003JIAA4Q  1\n",
       "174079   A2DEH4K0NBYUSH_3  0  B004XUNRRQ  1\n",
       "174082   A2DEH4K0NBYUSH_1  0  B004WXC4P0  1\n",
       "174084  A3P57IGTOBK96O_27  0  B00EA3PCFQ  1\n",
       "\n",
       "[73531 rows x 4 columns]"
      ]
     },
     "execution_count": 39,
     "metadata": {},
     "output_type": "execute_result"
    }
   ],
   "source": [
    "traindf[traindf[2].isin(idf1['asin'])]"
   ]
  },
  {
   "cell_type": "code",
   "execution_count": 38,
   "metadata": {},
   "outputs": [
    {
     "data": {
      "text/html": [
       "<div>\n",
       "<style scoped>\n",
       "    .dataframe tbody tr th:only-of-type {\n",
       "        vertical-align: middle;\n",
       "    }\n",
       "\n",
       "    .dataframe tbody tr th {\n",
       "        vertical-align: top;\n",
       "    }\n",
       "\n",
       "    .dataframe thead th {\n",
       "        text-align: right;\n",
       "    }\n",
       "</style>\n",
       "<table border=\"1\" class=\"dataframe\">\n",
       "  <thead>\n",
       "    <tr style=\"text-align: right;\">\n",
       "      <th></th>\n",
       "      <th>0</th>\n",
       "      <th>1</th>\n",
       "      <th>2</th>\n",
       "      <th>3</th>\n",
       "    </tr>\n",
       "  </thead>\n",
       "  <tbody>\n",
       "    <tr>\n",
       "      <th>0</th>\n",
       "      <td>A21O5ULBAZD8SZ_8</td>\n",
       "      <td>0</td>\n",
       "      <td>B009NLTW60</td>\n",
       "      <td>1</td>\n",
       "    </tr>\n",
       "    <tr>\n",
       "      <th>1</th>\n",
       "      <td>A21O5ULBAZD8SZ_8</td>\n",
       "      <td>0</td>\n",
       "      <td>B004CLYJ2I</td>\n",
       "      <td>1</td>\n",
       "    </tr>\n",
       "    <tr>\n",
       "      <th>2</th>\n",
       "      <td>A21O5ULBAZD8SZ_1</td>\n",
       "      <td>0</td>\n",
       "      <td>B00GJT0KS8</td>\n",
       "      <td>1</td>\n",
       "    </tr>\n",
       "    <tr>\n",
       "      <th>3</th>\n",
       "      <td>A21O5ULBAZD8SZ_10</td>\n",
       "      <td>0</td>\n",
       "      <td>B00FAADBHO</td>\n",
       "      <td>1</td>\n",
       "    </tr>\n",
       "    <tr>\n",
       "      <th>4</th>\n",
       "      <td>A21O5ULBAZD8SZ_1</td>\n",
       "      <td>0</td>\n",
       "      <td>B00C6LJXPE</td>\n",
       "      <td>1</td>\n",
       "    </tr>\n",
       "    <tr>\n",
       "      <th>...</th>\n",
       "      <td>...</td>\n",
       "      <td>...</td>\n",
       "      <td>...</td>\n",
       "      <td>...</td>\n",
       "    </tr>\n",
       "    <tr>\n",
       "      <th>174082</th>\n",
       "      <td>A2DEH4K0NBYUSH_1</td>\n",
       "      <td>0</td>\n",
       "      <td>B004WXC4P0</td>\n",
       "      <td>1</td>\n",
       "    </tr>\n",
       "    <tr>\n",
       "      <th>174083</th>\n",
       "      <td>A3P57IGTOBK96O_17</td>\n",
       "      <td>0</td>\n",
       "      <td>B00GJEIO8G</td>\n",
       "      <td>1</td>\n",
       "    </tr>\n",
       "    <tr>\n",
       "      <th>174084</th>\n",
       "      <td>A3P57IGTOBK96O_27</td>\n",
       "      <td>0</td>\n",
       "      <td>B00EA3PCFQ</td>\n",
       "      <td>1</td>\n",
       "    </tr>\n",
       "    <tr>\n",
       "      <th>174085</th>\n",
       "      <td>A3P57IGTOBK96O_1</td>\n",
       "      <td>0</td>\n",
       "      <td>B008DJIIG8</td>\n",
       "      <td>1</td>\n",
       "    </tr>\n",
       "    <tr>\n",
       "      <th>174086</th>\n",
       "      <td>A3P57IGTOBK96O_17</td>\n",
       "      <td>0</td>\n",
       "      <td>B003SGJIRO</td>\n",
       "      <td>1</td>\n",
       "    </tr>\n",
       "  </tbody>\n",
       "</table>\n",
       "<p>174087 rows × 4 columns</p>\n",
       "</div>"
      ],
      "text/plain": [
       "                        0  1           2  3\n",
       "0        A21O5ULBAZD8SZ_8  0  B009NLTW60  1\n",
       "1        A21O5ULBAZD8SZ_8  0  B004CLYJ2I  1\n",
       "2        A21O5ULBAZD8SZ_1  0  B00GJT0KS8  1\n",
       "3       A21O5ULBAZD8SZ_10  0  B00FAADBHO  1\n",
       "4        A21O5ULBAZD8SZ_1  0  B00C6LJXPE  1\n",
       "...                   ... ..         ... ..\n",
       "174082   A2DEH4K0NBYUSH_1  0  B004WXC4P0  1\n",
       "174083  A3P57IGTOBK96O_17  0  B00GJEIO8G  1\n",
       "174084  A3P57IGTOBK96O_27  0  B00EA3PCFQ  1\n",
       "174085   A3P57IGTOBK96O_1  0  B008DJIIG8  1\n",
       "174086  A3P57IGTOBK96O_17  0  B003SGJIRO  1\n",
       "\n",
       "[174087 rows x 4 columns]"
      ]
     },
     "execution_count": 38,
     "metadata": {},
     "output_type": "execute_result"
    }
   ],
   "source": [
    "traindf"
   ]
  },
  {
   "cell_type": "code",
   "execution_count": null,
   "metadata": {},
   "outputs": [],
   "source": []
  },
  {
   "cell_type": "code",
   "execution_count": null,
   "metadata": {},
   "outputs": [],
   "source": []
  },
  {
   "cell_type": "code",
   "execution_count": 22,
   "metadata": {},
   "outputs": [],
   "source": [
    "iwdf = pd.read_parquet('data/item_tokens.parquet')\n",
    "iwdf = iwdf[['asin', 'tokens']]"
   ]
  },
  {
   "cell_type": "code",
   "execution_count": 26,
   "metadata": {},
   "outputs": [
    {
     "data": {
      "text/html": [
       "<div>\n",
       "<style scoped>\n",
       "    .dataframe tbody tr th:only-of-type {\n",
       "        vertical-align: middle;\n",
       "    }\n",
       "\n",
       "    .dataframe tbody tr th {\n",
       "        vertical-align: top;\n",
       "    }\n",
       "\n",
       "    .dataframe thead th {\n",
       "        text-align: right;\n",
       "    }\n",
       "</style>\n",
       "<table border=\"1\" class=\"dataframe\">\n",
       "  <thead>\n",
       "    <tr style=\"text-align: right;\">\n",
       "      <th></th>\n",
       "      <th>asin</th>\n",
       "      <th>tokens</th>\n",
       "    </tr>\n",
       "  </thead>\n",
       "  <tbody>\n",
       "    <tr>\n",
       "      <th>0</th>\n",
       "      <td>7508492919</td>\n",
       "      <td>[give, clear, bathroom, floor, slightly, know,...</td>\n",
       "    </tr>\n",
       "    <tr>\n",
       "      <th>1</th>\n",
       "      <td>7532385086</td>\n",
       "      <td>[recommend, ,, i, $, cool, all, their, gave, l...</td>\n",
       "    </tr>\n",
       "    <tr>\n",
       "      <th>2</th>\n",
       "      <td>7887421268</td>\n",
       "      <td>[give, recommend, ,, peeling, does, i, because...</td>\n",
       "    </tr>\n",
       "    <tr>\n",
       "      <th>3</th>\n",
       "      <td>8199900164</td>\n",
       "      <td>[rate, ,, acceptable, own, on, stopped, a, get...</td>\n",
       "    </tr>\n",
       "    <tr>\n",
       "      <th>4</th>\n",
       "      <td>8288853439</td>\n",
       "      <td>[give, recommend, ,, minutes, does, i, timed, ...</td>\n",
       "    </tr>\n",
       "    <tr>\n",
       "      <th>...</th>\n",
       "      <td>...</td>\n",
       "      <td>...</td>\n",
       "    </tr>\n",
       "    <tr>\n",
       "      <th>48181</th>\n",
       "      <td>B01HJBS5C2</td>\n",
       "      <td>[minutes, open, easy, texture, also, hasn, up,...</td>\n",
       "    </tr>\n",
       "    <tr>\n",
       "      <th>48182</th>\n",
       "      <td>B01HJC7N4C</td>\n",
       "      <td>[give, minutes, sample, 30, open, ##load, easy...</td>\n",
       "    </tr>\n",
       "    <tr>\n",
       "      <th>48183</th>\n",
       "      <td>B01HJCN1UC</td>\n",
       "      <td>[paired, know, easy, seller, most, also, your,...</td>\n",
       "    </tr>\n",
       "    <tr>\n",
       "      <th>48184</th>\n",
       "      <td>B01HJCN55I</td>\n",
       "      <td>[give, recommend, ,, using, does, i, because, ...</td>\n",
       "    </tr>\n",
       "    <tr>\n",
       "      <th>48185</th>\n",
       "      <td>B01HJH9IN6</td>\n",
       "      <td>[recommend, ,, i, ##outs, because, totally, fl...</td>\n",
       "    </tr>\n",
       "  </tbody>\n",
       "</table>\n",
       "<p>48186 rows × 2 columns</p>\n",
       "</div>"
      ],
      "text/plain": [
       "             asin                                             tokens\n",
       "0      7508492919  [give, clear, bathroom, floor, slightly, know,...\n",
       "1      7532385086  [recommend, ,, i, $, cool, all, their, gave, l...\n",
       "2      7887421268  [give, recommend, ,, peeling, does, i, because...\n",
       "3      8199900164  [rate, ,, acceptable, own, on, stopped, a, get...\n",
       "4      8288853439  [give, recommend, ,, minutes, does, i, timed, ...\n",
       "...           ...                                                ...\n",
       "48181  B01HJBS5C2  [minutes, open, easy, texture, also, hasn, up,...\n",
       "48182  B01HJC7N4C  [give, minutes, sample, 30, open, ##load, easy...\n",
       "48183  B01HJCN1UC  [paired, know, easy, seller, most, also, your,...\n",
       "48184  B01HJCN55I  [give, recommend, ,, using, does, i, because, ...\n",
       "48185  B01HJH9IN6  [recommend, ,, i, ##outs, because, totally, fl...\n",
       "\n",
       "[48186 rows x 2 columns]"
      ]
     },
     "execution_count": 26,
     "metadata": {},
     "output_type": "execute_result"
    }
   ],
   "source": [
    "iwdf"
   ]
  },
  {
   "cell_type": "code",
   "execution_count": 34,
   "metadata": {},
   "outputs": [],
   "source": [
    "uitems = list(pd.unique(traindf[2]))"
   ]
  },
  {
   "cell_type": "code",
   "execution_count": 35,
   "metadata": {},
   "outputs": [
    {
     "data": {
      "text/plain": [
       "10428"
      ]
     },
     "execution_count": 35,
     "metadata": {},
     "output_type": "execute_result"
    }
   ],
   "source": [
    "len(uitems)"
   ]
  },
  {
   "cell_type": "code",
   "execution_count": 36,
   "metadata": {},
   "outputs": [
    {
     "data": {
      "text/plain": [
       "48186"
      ]
     },
     "execution_count": 36,
     "metadata": {},
     "output_type": "execute_result"
    }
   ],
   "source": [
    "len(pd.unique(iwdf['asin']))"
   ]
  },
  {
   "cell_type": "code",
   "execution_count": null,
   "metadata": {},
   "outputs": [],
   "source": []
  }
 ],
 "metadata": {
  "kernelspec": {
   "display_name": "base",
   "language": "python",
   "name": "python3"
  },
  "language_info": {
   "codemirror_mode": {
    "name": "ipython",
    "version": 3
   },
   "file_extension": ".py",
   "mimetype": "text/x-python",
   "name": "python",
   "nbconvert_exporter": "python",
   "pygments_lexer": "ipython3",
   "version": "3.12.8"
  }
 },
 "nbformat": 4,
 "nbformat_minor": 2
}
